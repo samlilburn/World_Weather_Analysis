{
 "cells": [
  {
   "cell_type": "code",
   "execution_count": 1,
   "id": "b8fecf48",
   "metadata": {},
   "outputs": [
    {
     "ename": "ModuleNotFoundError",
     "evalue": "No module named 'config'",
     "output_type": "error",
     "traceback": [
      "\u001b[0;31m---------------------------------------------------------------------------\u001b[0m",
      "\u001b[0;31mModuleNotFoundError\u001b[0m                       Traceback (most recent call last)",
      "Input \u001b[0;32mIn [1]\u001b[0m, in \u001b[0;36m<cell line: 8>\u001b[0;34m()\u001b[0m\n\u001b[1;32m      6\u001b[0m \u001b[38;5;28;01mfrom\u001b[39;00m \u001b[38;5;21;01mcitipy\u001b[39;00m \u001b[38;5;28;01mimport\u001b[39;00m citipy\n\u001b[1;32m      7\u001b[0m \u001b[38;5;28;01mfrom\u001b[39;00m \u001b[38;5;21;01mdatetime\u001b[39;00m \u001b[38;5;28;01mimport\u001b[39;00m datetime \n\u001b[0;32m----> 8\u001b[0m \u001b[38;5;28;01mfrom\u001b[39;00m \u001b[38;5;21;01mconfig\u001b[39;00m \u001b[38;5;28;01mimport\u001b[39;00m weather_api_key\n\u001b[1;32m      9\u001b[0m \u001b[38;5;28;01mimport\u001b[39;00m \u001b[38;5;21;01mrequests\u001b[39;00m\n\u001b[1;32m     10\u001b[0m \u001b[38;5;28;01mimport\u001b[39;00m \u001b[38;5;21;01mtime\u001b[39;00m\n",
      "\u001b[0;31mModuleNotFoundError\u001b[0m: No module named 'config'"
     ]
    }
   ],
   "source": [
    "# Dependencies \n",
    "import pandas as pd \n",
    "import matplotlib.pyplot as plt\n",
    "import numpy as np\n",
    "import random\n",
    "from citipy import citipy\n",
    "from datetime import datetime \n",
    "from config import weather_api_key\n",
    "import requests\n",
    "import time"
   ]
  },
  {
   "cell_type": "code",
   "execution_count": 5,
   "id": "13b8c5d2",
   "metadata": {},
   "outputs": [
    {
     "name": "stdout",
     "output_type": "stream",
     "text": [
      "Beginning Data Retrieval     \n",
      "-----------------------------\n"
     ]
    },
    {
     "ename": "NameError",
     "evalue": "name 'weather_api_key' is not defined",
     "output_type": "error",
     "traceback": [
      "\u001b[0;31m---------------------------------------------------------------------------\u001b[0m",
      "\u001b[0;31mNameError\u001b[0m                                 Traceback (most recent call last)",
      "Input \u001b[0;32mIn [5]\u001b[0m, in \u001b[0;36m<cell line: 13>\u001b[0;34m()\u001b[0m\n\u001b[1;32m     10\u001b[0m set_count \u001b[38;5;241m=\u001b[39m \u001b[38;5;241m1\u001b[39m\n\u001b[1;32m     12\u001b[0m \u001b[38;5;66;03m# Create url for API\u001b[39;00m\n\u001b[0;32m---> 13\u001b[0m url \u001b[38;5;241m=\u001b[39m \u001b[38;5;124m\"\u001b[39m\u001b[38;5;124mhttp://api.openweathermap.org/data/2.5/weather?units=Imperial&APPID=\u001b[39m\u001b[38;5;124m\"\u001b[39m \u001b[38;5;241m+\u001b[39m \u001b[43mweather_api_key\u001b[49m\n",
      "\u001b[0;31mNameError\u001b[0m: name 'weather_api_key' is not defined"
     ]
    }
   ],
   "source": [
    "# Create list for weather data\n",
    "city_data = []\n",
    "\n",
    "# Print the beginning \n",
    "print(\"Beginning Data Retrieval     \")\n",
    "print(\"-----------------------------\")\n",
    "\n",
    "# Set counters\n",
    "record_count = 1\n",
    "set_count = 1\n",
    "\n",
    "# Create url for API\n",
    "url = \"http://api.openweathermap.org/data/2.5/weather?units=Imperial&APPID=\" + weather_api_key"
   ]
  },
  {
   "cell_type": "code",
   "execution_count": 6,
   "id": "83bf92c7",
   "metadata": {},
   "outputs": [],
   "source": [
    "# Create the 2000 random coordinates \n",
    "latitudes = np.random.uniform(-90, 90, size = 2000)\n",
    "longitudes = np.random.uniform(-180, 180, size = 2000)\n",
    "coordinates = zip(latitudes, longitudes)\n",
    "coordinates\n",
    "\n",
    "# Add coordinates to a list \n",
    "coordinates_lst = list(coordinates)"
   ]
  },
  {
   "cell_type": "code",
   "execution_count": 3,
   "id": "65b5765c",
   "metadata": {},
   "outputs": [
    {
     "data": {
      "text/plain": [
       "751"
      ]
     },
     "execution_count": 3,
     "metadata": {},
     "output_type": "execute_result"
    }
   ],
   "source": [
    "# Create cities list \n",
    "cities = []\n",
    "\n",
    "# Find nearest cities using coordinate list using citipy\n",
    "for coordinate in coordinates_lst:\n",
    "    city = citipy.nearest_city(coordinate[0],coordinate[1])\n",
    "    city_name = city.city_name\n",
    "    country_name = city.country_code\n",
    "    \n",
    "    # Find unique cities to add to cities list\n",
    "    if city_name not in cities:\n",
    "        cities.append(city_name)\n",
    "    \n",
    "\n",
    "# Count of unique cities\n",
    "len(cities)"
   ]
  },
  {
   "cell_type": "code",
   "execution_count": 4,
   "id": "10f71977",
   "metadata": {},
   "outputs": [
    {
     "ename": "NameError",
     "evalue": "name 'url' is not defined",
     "output_type": "error",
     "traceback": [
      "\u001b[0;31m---------------------------------------------------------------------------\u001b[0m",
      "\u001b[0;31mNameError\u001b[0m                                 Traceback (most recent call last)",
      "Input \u001b[0;32mIn [4]\u001b[0m, in \u001b[0;36m<cell line: 2>\u001b[0;34m()\u001b[0m\n\u001b[1;32m      7\u001b[0m     record_count \u001b[38;5;241m=\u001b[39m \u001b[38;5;241m1\u001b[39m \n\u001b[1;32m      9\u001b[0m \u001b[38;5;66;03m# Create URL for each city\u001b[39;00m\n\u001b[0;32m---> 10\u001b[0m city_url \u001b[38;5;241m=\u001b[39m \u001b[43murl\u001b[49m \u001b[38;5;241m+\u001b[39m \u001b[38;5;124m\"\u001b[39m\u001b[38;5;124m&q=\u001b[39m\u001b[38;5;124m\"\u001b[39m \u001b[38;5;241m+\u001b[39m city\u001b[38;5;241m.\u001b[39mreplace(\u001b[38;5;124m\"\u001b[39m\u001b[38;5;124m \u001b[39m\u001b[38;5;124m\"\u001b[39m,\u001b[38;5;124m\"\u001b[39m\u001b[38;5;124m+\u001b[39m\u001b[38;5;124m\"\u001b[39m)\n\u001b[1;32m     12\u001b[0m \u001b[38;5;66;03m# Log URL, set, and record numbers for each city\u001b[39;00m\n\u001b[1;32m     13\u001b[0m \u001b[38;5;28mprint\u001b[39m(\u001b[38;5;124mf\u001b[39m\u001b[38;5;124m\"\u001b[39m\u001b[38;5;124mProcessing Record \u001b[39m\u001b[38;5;132;01m{\u001b[39;00mrecord_count\u001b[38;5;132;01m}\u001b[39;00m\u001b[38;5;124m of Set \u001b[39m\u001b[38;5;132;01m{\u001b[39;00mset_count\u001b[38;5;132;01m}\u001b[39;00m\u001b[38;5;124m | \u001b[39m\u001b[38;5;132;01m{\u001b[39;00mcity\u001b[38;5;132;01m}\u001b[39;00m\u001b[38;5;124m\"\u001b[39m)\n",
      "\u001b[0;31mNameError\u001b[0m: name 'url' is not defined"
     ]
    }
   ],
   "source": [
    "# Loop through cities lists \n",
    "for i, city in enumerate(cities):\n",
    "    \n",
    "    # Group cities in sets of 50 \n",
    "    if (i % 50 == 0 and i >= 50):\n",
    "        set_count += 1 \n",
    "        record_count = 1 \n",
    "    \n",
    "    # Create URL for each city\n",
    "    city_url = url + \"&q=\" + city.replace(\" \",\"+\")\n",
    "    \n",
    "    # Log URL, set, and record numbers for each city\n",
    "    print(f\"Processing Record {record_count} of Set {set_count} | {city}\")\n",
    "    record_count += 1\n",
    "\n",
    "# Create API request for each city \n",
    "    try:\n",
    "       \n",
    "        # Add JSON\n",
    "        city_weather = requests.get(city_url).json()\n",
    "                # Compile needed data\n",
    "        city_city = city.title()\n",
    "        city_country = city_weather['sys']['country']\n",
    "        city_date = datetime.utcfromtimestamp(city_weather['dt']).strftime('%Y-%m-%d %H:%M:%S')\n",
    "        city_lat = city_weather['coord']['lat']\n",
    "        city_lng = city_weather['coord']['lon']\n",
    "        city_max_temp = city_weather['main']['temp_max']\n",
    "        city_hum = city_weather['main']['humidity']\n",
    "        city_cloud = city_weather['clouds']['all']\n",
    "        city_wind = city_weather['wind']['speed']\n",
    "        city_desc = city_weather['weather'][0]['description']\n",
    "\n",
    "        # Fill City Data list \n",
    "        city_data.append({\"City\": city_city,\n",
    "                         \"Country\": city_country,\n",
    "                         \"Date\": city_date,\n",
    "                         \"Lat\": city_lat,\n",
    "                         \"Lng\": city_lng,\n",
    "                         \"Max Temp\": city_max_temp,\n",
    "                         \"Humidity\": city_hum,\n",
    "                         \"Cloudiness\": city_cloud,\n",
    "                         \"Wind Speed\": city_wind,\n",
    "                         \"Current Description\": city_desc,\n",
    "                         })\n",
    "        #In the case of an error\n",
    "    except: \n",
    "        print(\"City not found. Skipping\")\n",
    "        pass\n",
    "\n",
    "# Complete data retrieval    \n",
    "print(\"-----------------------------\")\n",
    "print(\"Data Retrieval Complete      \")\n",
    "print(\"-----------------------------\")"
   ]
  },
  {
   "cell_type": "code",
   "execution_count": null,
   "id": "958a163b",
   "metadata": {},
   "outputs": [],
   "source": []
  }
 ],
 "metadata": {
  "kernelspec": {
   "display_name": "PythonData",
   "language": "python",
   "name": "pythondata"
  },
  "language_info": {
   "codemirror_mode": {
    "name": "ipython",
    "version": 3
   },
   "file_extension": ".py",
   "mimetype": "text/x-python",
   "name": "python",
   "nbconvert_exporter": "python",
   "pygments_lexer": "ipython3",
   "version": "3.9.12"
  }
 },
 "nbformat": 4,
 "nbformat_minor": 5
}
